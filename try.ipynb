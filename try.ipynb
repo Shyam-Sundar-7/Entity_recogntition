{
 "cells": [
  {
   "cell_type": "code",
   "execution_count": 8,
   "metadata": {},
   "outputs": [],
   "source": [
    "from datetime import datetime\n",
    "from langchain.output_parsers.openai_functions import JsonOutputFunctionsParser\n",
    "from langchain_openai import ChatOpenAI\n",
    "from typing import List\n",
    "from pydantic import BaseModel, Field\n",
    "from langchain_community.utils.openai_functions import convert_pydantic_to_openai_function\n",
    "from langchain_core.prompts import ChatPromptTemplate\n",
    "from dotenv import load_dotenv\n",
    "load_dotenv()\n",
    "\n",
    "class Product(BaseModel):\n",
    "    \"\"\"Information about a Product.\"\"\"\n",
    "    Name: str = Field(None,description=\"Product Name of a product\")\n",
    "    Price: float = Field(None,description=\"Total amount of the product\")\n",
    "    \n",
    "class Extraction_with_products(BaseModel):\n",
    "    \"\"\" Extract the entities from the invoice document\"\"\"\n",
    "    transaction_id :str =Field(None,description=\"Payment Transaction ID of the invoice document file\")\n",
    "    amount : float = Field(None,description=\"Total Invoice value of the invoice document file\")\n",
    "    datetime_field: datetime = Field(None,description=\"The date and time (24-hour format) when the payment was made.\")\n",
    "    mode_of_payment :str=Field(None,description=\"Tells about the mode of payment the user proceeeded\")\n",
    "    Products:List[Product] =Field(None,description=\"Tells about the details of list of products\")\n",
    "\n",
    "class Extraction(BaseModel):\n",
    "    \"\"\" Extract the entities from the invoice document\"\"\"\n",
    "    transaction_id :str =Field(None,description=\"Payment Transaction ID of the invoice document file\")\n",
    "    amount : float = Field(None,description=\"Total Invoice value of the invoice document file\")\n",
    "    datetime_field: datetime = Field(None,description=\"The date and time (24-hour format) when the payment was made.\")\n",
    "    mode_of_payment :str=Field(None,description=\"Tells about the mode of payment the user proceeeded\") \n",
    "    \n",
    "     \n",
    "def extract_features(document):\n",
    "\n",
    "\n",
    "    model = ChatOpenAI(temperature=0)\n",
    "    function = [convert_pydantic_to_openai_function(Extraction)]\n",
    "    prompt_template=\"\"\"You are tasked with extracting specific fields from an invoice document. The fields you need to extract are:\n",
    "\n",
    "    1. Transaction ID\n",
    "    2. Amount\n",
    "    3. Date and Time (combined)\n",
    "    4. Mode of Payment\n",
    "\n",
    "    Please extract the following fields from the given invoice document. If any field cannot be extracted, set its value to `null`. \n",
    "\n",
    "    Invoice Document :{Document}\n",
    "    \"\"\"\n",
    "    prompt_template = ChatPromptTemplate.from_template(prompt_template)\n",
    "    llm_model = (\n",
    "        prompt_template\n",
    "        | model.bind(functions=function) \n",
    "        | JsonOutputFunctionsParser() \n",
    "    )\n",
    "    return llm_model.invoke({\n",
    "        \"Document\":document\n",
    "    })\n",
    "    \n",
    "def extract_features_with_products(document):\n",
    "\n",
    "\n",
    "    model = ChatOpenAI(temperature=0)\n",
    "    function = [convert_pydantic_to_openai_function(Extraction_with_products)]\n",
    "    prompt_template=\"\"\"You are tasked with extracting specific fields from an invoice document. The fields you need to extract are:\n",
    "\n",
    "1. Transaction ID\n",
    "2. Amount\n",
    "3. Date and Time (combined)\n",
    "4. Mode of Payment\n",
    "5. 5. List of Products (each product has a Name and Amount)\n",
    "\n",
    "Please extract the following fields from the given invoice document. If any field cannot be extracted, set its value to `null`. \n",
    "\n",
    "Invoice Document :{Document}\n",
    "\"\"\"\n",
    "    prompt_template = ChatPromptTemplate.from_template(prompt_template)\n",
    "    llm_model = (\n",
    "        prompt_template\n",
    "        | model.bind(functions=function) \n",
    "        | JsonOutputFunctionsParser() \n",
    "    )\n",
    "    return llm_model.invoke({\n",
    "        \"Document\":document\n",
    "    })"
   ]
  },
  {
   "cell_type": "code",
   "execution_count": 20,
   "metadata": {},
   "outputs": [],
   "source": [
    "\n",
    "from langchain_community.document_loaders import PyPDFLoader\n",
    "from datetime import datetime\n",
    "loader = PyPDFLoader(\"data/indigo flight ticket .pdf\")\n",
    "pages = loader.load_and_split()\n",
    "\n"
   ]
  },
  {
   "cell_type": "code",
   "execution_count": 21,
   "metadata": {},
   "outputs": [
    {
     "data": {
      "text/plain": [
       "[Document(metadata={'source': 'data/indigo flight ticket .pdf', 'page': 0}, page_content='Your IndiGo Itinerary - WMRKGV\\nFrom: IndiGo\\nreser vations@cust omer .goindigo.in\\nTo: slsnar ayanan@outlook.com\\nslsnar ayanan@outlook.com\\nSent:  Friday, Februar y 17, 15:11\\nPNR/Booking Ref.: WMRK GV\\nStatus Date of Booking* Payment Status\\nCONFIRMED 17Feb23 09:41:25 (UT C) Approved\\n*Booking Date reﬂects in UTC (Universal Time Coordinated), all other timings mentioned are as per Local Time.\\nIndiGo P assenger - 1/1 Check-in now Flight Status\\nMr. Lakshmi nar ayanan Sar avana perumal\\nIndiGo Flight(s)\\nDate From (T erminal) Depar tsFlight Number\\n(Aircraft type)Check-in/Bag\\ndrop closesTo (Terminal) Arriv es Via\\n15 Mar 23 Hyderabad 12:056E 6781 \\xa0\\n(A321)11:05 Madur ai (T1) 13:40'),\n",
       " Document(metadata={'source': 'data/indigo flight ticket .pdf', 'page': 1}, page_content='HYD\\n IXM\\xa0\\n\\xa0\\nTips for a hassle-fr ee tr avel experience\\nFree mandat ory web\\ncheck-in\\nCheck-in online for fr ee 48\\nhr to 60 min befor e ﬂight.\\n120 min befor e\\ndepar ture\\nReach the airpor t to allow\\nyourself suﬃcient time for\\nnecessar y procedur es.\\n60 min befor e\\ndepar ture\\nDrop your bags and pr oceed\\nfor boar ding.\\n25 min befor e\\ndepar ture\\nBoar ding gate closes.\\nTravel and Baggage Information\\n•\\xa0\\xa0Fare Type: Regular F are\\n•\\xa0\\xa0Airpor t counters close 60 minutes  prior t o the scheduled depar ture time.\\n•\\xa0\\xa0Boar ding gates close 25 minutes  prior t o the scheduled depar ture time.\\n•\\xa0\\xa0 Check-in Baggage: 15kg per person (1 piece only). Ex cess baggage/additional piece is subject t o applicable char ges.\\n•\\xa0\\xa0 Disclaimer: 15 K g per person (One piece only). F or Double/T riple or MultiSeats bookings, extr a 10 k g will be applicable. Baggage in\\nexcess of 15 k g will be subject t o additional char ges of INR 1000 per piece in addition t o the ex cess baggage char ges of INR 550 per\\nkg at the airpor t.\\n•\\xa0\\xa0 Hand Baggage: One hand bag up t o 7 k gs and 115 cms (L+W+H), shall be allowed per cust omer . For contactless tr avel we\\nrecommend t o place it under the seat in fr ont, on boar d.\\n•\\xa0\\xa0All passengers must pr esent v alid phot o identiﬁcation in original at the time of check-in.\\n•\\xa0\\xa0 For Car ds issued outside India: All our cust omers using car ds issued outside India will be unable t o per form web check-in, as car d\\nveriﬁcation is necessar y. Cust omers tr avelling on such bookings must pr esent either a har d or soft cop y of their signed car d for\\nveriﬁcation at the time of check-in at the airpor t. If the tr ansaction r emains un-v eriﬁed, the amount will be r efunded, and y ou can\\ncomplete the same booking using an alternate mode of pa yment. Please note that failing which, y our booking will be cancelled and\\nthe amount will be for feited. W e str ongly r ecommend y ou to check y our r egister ed email ID for all the notiﬁcations r egar ding y our\\nbooking.\\n•\\xa0\\xa0Carr y a printed or soft cop y of boar ding pass and baggage tag , you can print them at the airpor t kiosk as well. Please note only\\ncertain airpor ts ar e equipped with kiosks which print baggage tags, hence it is advised that y ou mention y our name and PNR on a thick\\npaper and tag it t o your baggage befor e reaching the airpor t.'),\n",
       " Document(metadata={'source': 'data/indigo flight ticket .pdf', 'page': 2}, page_content='•\\xa0\\xa0Remember t o wear y our mask, carr ying a sanitiser is r ecommended .\\n•\\xa0\\xa0Please check state guidelines https:/ /bit.ly/3dC9zT5 , befor e the journe y..\\nTravel advisor y: Saf ety during CO VID-19\\nWe seek y our kind assistance t o saf eguar d your well-being, as well as that of y our f ellow passengers and our cr ew on boar d our\\nﬂights, b y following the guidelines set out below:\\n•All cust omers should wear a mask  and sanitiz e their hands  befor e proceeding t o the boar ding gate.\\n•Cust omers must wear a face mask co vering their nose and mouth , throughout their journe y with IndiGo. The mask ma y be\\nremo ved only  while eating and drinking.\\n•Please maintain appr opriate social distancing  while boar ding and de-boar ding the air craft.\\n•Kindly adher e to all the announcements and other dir ectiv es issued b y our gr ound staff and/or cr ew at all points of time\\nduring y our journe y.\\n•Cust omers ar e also r equested t o familiarise themselv es with the guidelines for air passengers published b y the Indian\\nMinistr y of Civil A viation on the following link:\\nhttps:/ /www .civila viation.go v.in/sites/default/ﬁles/ Guidelines_for_Air_P assengers_ 21Ma y.pdf\\nhttps:/ /www .mohfw .gov.in/pdf/Guidelinesfor domestictr avelﬂighttr ainshipbusinterstatetr avel.pdf\\n•Caution: Cust omers ar e advised t o strictly follow all CO VID-19 pr otocols. F ailur e to comply with these guidelines and the\\ndirections of our gr ound staff and/or cr ew ma y attr act penal action against the concerned individual.\\nFor Your Beneﬁts\\nTerms & Conditions\\n•\\xa0For mor e information on y our itiner ary, please click her e\\n•\\xa0To read our conditions of carriage as per Indian r egulations, please click her e\\n•\\xa0For details on the P assenger Char ter’ issued b y the Ministr y of Civil A viation (MoCA), please click her e\\nFor your information'),\n",
       " Document(metadata={'source': 'data/indigo flight ticket .pdf', 'page': 3}, page_content='Fare Summar y\\nAirfare Char ges INR 3,079.00\\nAviation Security F ee INR 236.00\\nGST for Telangana INR 154.00\\nUser De velopment F ee INR 566.00\\nTotal F are INR 4,035.00Personal contact information\\nAddr ess : 19th ﬂoor ,Tower A,B&C Epit ome Building No.5\\nCompany Name : M AKEM YTRIP INDI A PVT  LTD\\nHome Phone : 918072076877\\nOther Phone : 918072076877\\nAlt Phone : 918072076877\\nEmail : slsnar ayanan@outlook.com\\nUpdate Contact details\\nInter globe A viation ltd.(IndiGo), Global Business P ark, Gur gaon, Har yana, India. Call 0124-4973838 or 0124-6173838\\n \\xa0 \\xa0 \\nBook Flight  | Flight Status  | Edit Booking  | Check-in  | View GST  Invoice  | Partner Login  | FAQs |\\nContact Us\\nCopyright 2023 IndiGo All rights r eser ved.')]"
      ]
     },
     "execution_count": 21,
     "metadata": {},
     "output_type": "execute_result"
    }
   ],
   "source": [
    "pages"
   ]
  },
  {
   "cell_type": "code",
   "execution_count": 22,
   "metadata": {},
   "outputs": [
    {
     "data": {
      "text/plain": [
       "{'transaction_id': 'WMRKGV',\n",
       " 'amount': 4035,\n",
       " 'datetime_field': '2023-02-17T09:41:25',\n",
       " 'mode_of_payment': None}"
      ]
     },
     "execution_count": 22,
     "metadata": {},
     "output_type": "execute_result"
    }
   ],
   "source": [
    "extract_features(pages)"
   ]
  },
  {
   "cell_type": "code",
   "execution_count": 23,
   "metadata": {},
   "outputs": [
    {
     "data": {
      "text/plain": [
       "{'transaction_id': 'WMRKGV',\n",
       " 'amount': 4035,\n",
       " 'datetime_field': '2023-02-17T09:41:25',\n",
       " 'mode_of_payment': None,\n",
       " 'Products': [{'Name': 'Airfare Charges', 'Price': 3079},\n",
       "  {'Name': 'Aviation Security Fee', 'Price': 236},\n",
       "  {'Name': 'GST for Telangana', 'Price': 154},\n",
       "  {'Name': 'User Development Fee', 'Price': 566}]}"
      ]
     },
     "execution_count": 23,
     "metadata": {},
     "output_type": "execute_result"
    }
   ],
   "source": [
    "extract_features_with_products(pages)"
   ]
  },
  {
   "cell_type": "markdown",
   "metadata": {},
   "source": [
    "# image"
   ]
  },
  {
   "cell_type": "code",
   "execution_count": null,
   "metadata": {},
   "outputs": [],
   "source": [
    "data[0]"
   ]
  },
  {
   "cell_type": "code",
   "execution_count": null,
   "metadata": {},
   "outputs": [],
   "source": [
    "class template(BaseModel):\n",
    "    \"\"\"Get the name of the template from the invoice document\"\"\"\n",
    "    template: str = Field(None, description=\"\")\n",
    "    \n",
    "model = ChatOpenAI(temperature=0)\n",
    "function = [convert_pydantic_to_openai_function(template)]\n",
    "prompt_template=\"\"\"Classify the document into the following that \n",
    "\n",
    "Invoice Document :{Document}\n",
    "\"\"\"\n",
    "prompt_template = ChatPromptTemplate.from_template(prompt_template)\n",
    "llm_model = (\n",
    "    prompt_template\n",
    "    | model.bind(functions=function) \n",
    "    | JsonOutputFunctionsParser() \n",
    ")\n",
    "llm_model.invoke({\"Document\":})"
   ]
  }
 ],
 "metadata": {
  "kernelspec": {
   "display_name": ".venv",
   "language": "python",
   "name": "python3"
  },
  "language_info": {
   "codemirror_mode": {
    "name": "ipython",
    "version": 3
   },
   "file_extension": ".py",
   "mimetype": "text/x-python",
   "name": "python",
   "nbconvert_exporter": "python",
   "pygments_lexer": "ipython3",
   "version": "3.12.3"
  }
 },
 "nbformat": 4,
 "nbformat_minor": 2
}
