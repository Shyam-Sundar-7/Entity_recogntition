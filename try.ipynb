{
 "cells": [
  {
   "cell_type": "code",
   "execution_count": 52,
   "metadata": {},
   "outputs": [],
   "source": [
    "from typing import List\n",
    "from pydantic import BaseModel, Field\n",
    "from langchain_community.utils.openai_functions import convert_pydantic_to_openai_function\n",
    "\n",
    "from dotenv import load_dotenv\n",
    "load_dotenv()\n",
    "\n",
    "from langchain_openai import ChatOpenAI"
   ]
  },
  {
   "cell_type": "code",
   "execution_count": 53,
   "metadata": {},
   "outputs": [
    {
     "name": "stderr",
     "output_type": "stream",
     "text": [
      "<>:3: SyntaxWarning: invalid escape sequence '\\i'\n",
      "<>:3: SyntaxWarning: invalid escape sequence '\\i'\n",
      "C:\\Users\\shyams\\AppData\\Local\\Temp\\ipykernel_13364\\1324412121.py:3: SyntaxWarning: invalid escape sequence '\\i'\n",
      "  loader = PyPDFLoader(\"data\\invoice_1item.pdf\")\n"
     ]
    }
   ],
   "source": [
    "from langchain_community.document_loaders import PyPDFLoader\n",
    "from datetime import datetime\n",
    "loader = PyPDFLoader(\"data\\invoice_1item.pdf\")\n",
    "pages = loader.load_and_split()"
   ]
  },
  {
   "cell_type": "code",
   "execution_count": 54,
   "metadata": {},
   "outputs": [
    {
     "data": {
      "text/plain": [
       "[Document(metadata={'source': 'data\\\\invoice_1item.pdf', 'page': 0}, page_content='Tax Invoice/Bill of Supply/Cash Memo\\n(Original for Recipient)\\n*ASSPL-Amazon Seller Services Pvt. Ltd., ARIPL-Amazon Retail India Pvt. Ltd. (only where Amazon Retail India Pvt. Ltd. fulfillment center is co-located) \\nCustomers desirous of availing input GST credit are requested to create a Business account and purchase on Amazon.in/business from Business eligible offers \\nPlease note that this invoice is not a demand for payment\\nPage 1 of 1For ASHVINKUMAR BHAGVANBHAI GOVINDA:\\nAuthorized Signatory\\nOrder Number:  403-9087323-7735518 Invoice Number :  AMD2-28157\\nOrder Date:  05.03.2023 Invoice Details :  GJ-AMD2-1369143095-2223\\nInvoice Date :  05.03.2023\\nSl.\\nNoDescriptionUnit\\nPriceQtyNet\\nAmountTax\\nRateTax\\nTypeTax\\nAmountTotal\\nAmount\\n1Jialto Adhesive Nails Wall Poster Non-Trace Stick Wall Hook, Adhesive\\nHooks, , Heavy Duty Wall Hooks for Hanging, Durable Practical\\nTransparent Strong Adhesive Screw Wall Nail 6 Pcs | B08X49Y75V (\\nWB-GREO-8XLU ) \\nHSN:3924₹133.901₹133.9018%IGST₹24.10₹158.00\\nTOTAL: ₹24.10₹158.00\\nAmount in Words:\\nOne Hundred Fifty-eight only\\nWhether tax is payable under reverse charge - No\\nPayment Transaction ID: \\n1113eiI7qUaD9rDLu6KLV5g2zDate & Time: 05/03/2023, 11:13:29\\nhrsInvoice Value: \\n158.00Mode of Payment: \\nGiftCardSold By :\\nASHVINKUMAR BHAGVANBHAI GOVINDA \\n* Plot no. 120 X and part portion of plot no. 119\\nW2, Gallops Industrial Park 1, Village Rajoda,\\nTaluka Bavla, District Ahmedabad\\nAhmedabad, GUJARAT, 382220\\nIN\\nPAN No: CIUPG1692Q\\nGST Registration No: 24CIUPG1692Q1ZFBilling Address :\\nRoshan Suganthan\\n26/2, first floor,, Jawahar street, Jaganathan\\nnagar, Arumbakkam\\nCHENNAI, TAMIL NADU, 600106\\nIN\\nState/UT Code: 33\\nShipping Address :\\nRoshan Suganthan \\nRoshan Suganthan\\n26/2, first floor,, Jawahar street, Jaganathan\\nnagar, Arumbakkam\\nCHENNAI, TAMIL NADU, 600106\\nIN\\nState/UT Code: 33 \\nPlace of supply: TAMIL NADU \\nPlace of delivery: TAMIL NADU')]"
      ]
     },
     "execution_count": 54,
     "metadata": {},
     "output_type": "execute_result"
    }
   ],
   "source": [
    "pages"
   ]
  },
  {
   "cell_type": "code",
   "execution_count": 55,
   "metadata": {},
   "outputs": [],
   "source": [
    "class Extraction(BaseModel):\n",
    "    \"\"\" Extract the entities from the invoice document\"\"\"\n",
    "    transaction_id :str =Field(description=\"Payment Transaction ID of the invoice document file\")\n",
    "    amount : float = Field(description=\"Total Invoice value of the invoice document file\")\n",
    "    datetime_field: datetime = Field(description=\"The date and time (24-hour format) when the payment was made.\")\n",
    "    mode_of_payment :str=Field(description=\"Tells about the mode of payment the user proceeeded\")\n",
    "\n",
    "model = ChatOpenAI(temperature=0)\n",
    "function = [convert_pydantic_to_openai_function(Extraction)]"
   ]
  },
  {
   "cell_type": "code",
   "execution_count": 56,
   "metadata": {},
   "outputs": [],
   "source": [
    "prompt_template=\"\"\"You are tasked with extracting specific fields from an invoice document. The fields you need to extract are:\n",
    "\n",
    "1. Transaction ID\n",
    "2. Amount\n",
    "3. Date and Time (combined)\n",
    "4. Mode of Payment\n",
    "\n",
    "Please extract the following fields from the given invoice document. If any field cannot be extracted, set its value to `null`. \n",
    "\n",
    "Invoice Document :{Document}\n",
    "\"\"\"\n",
    "\n",
    "\n",
    "from langchain_openai import ChatOpenAI\n",
    "\n",
    "model = ChatOpenAI(model=\"gpt-3.5-turbo\")\n",
    "from langchain_core.prompts import ChatPromptTemplate\n",
    "prompt_template = ChatPromptTemplate.from_template(prompt_template)\n",
    "from langchain.output_parsers.openai_functions import JsonOutputFunctionsParser\n",
    "llm_model = (\n",
    "      prompt_template\n",
    "      | model.bind(functions=function) \n",
    "      | JsonOutputFunctionsParser() \n",
    "  )"
   ]
  },
  {
   "cell_type": "code",
   "execution_count": 57,
   "metadata": {},
   "outputs": [
    {
     "data": {
      "text/plain": [
       "{'transaction_id': '1113eiI7qUaD9rDLu6KLV5g2z',\n",
       " 'amount': 158.0,\n",
       " 'datetime_field': '05/03/2023, 11:13:29',\n",
       " 'mode_of_payment': 'GiftCard'}"
      ]
     },
     "execution_count": 57,
     "metadata": {},
     "output_type": "execute_result"
    }
   ],
   "source": [
    "llm_model.invoke({\"Document\":pages})"
   ]
  },
  {
   "cell_type": "code",
   "execution_count": 58,
   "metadata": {},
   "outputs": [
    {
     "data": {
      "text/plain": [
       "{'transaction_id': '1113eiI7qUaD9rDLu6KLV5g2z',\n",
       " 'amount': 158,\n",
       " 'datetime_field': '05/03/2023, 11:13:29',\n",
       " 'mode_of_payment': 'GiftCard',\n",
       " 'Products': [{'name': 'Jialto Adhesive Nails Wall Poster Non-Trace Stick Wall Hook, Adhesive Hooks, , Heavy Duty Wall Hooks for Hanging, Durable Practical Transparent Strong Adhesive Screw Wall Nail 6 Pcs | B08X49Y75V (WB-GREO-8XLU )',\n",
       "   'age': 158}]}"
      ]
     },
     "execution_count": 58,
     "metadata": {},
     "output_type": "execute_result"
    }
   ],
   "source": [
    "class Product(BaseModel):\n",
    "    \"\"\"Information about a Product.\"\"\"\n",
    "    name: str = Field(description=\"Product Name of a product\")\n",
    "    age: float = Field(description=\"Total amount of the product\")\n",
    "    \n",
    "class Extraction_with_products(BaseModel):\n",
    "    \"\"\" Extract the entities from the invoice document\"\"\"\n",
    "    transaction_id :str =Field(description=\"Payment Transaction ID of the invoice document file\")\n",
    "    amount : float = Field(description=\"Total Invoice value of the invoice document file\")\n",
    "    datetime_field: datetime = Field(description=\"The date and time (24-hour format) when the payment was made.\")\n",
    "    mode_of_payment :str=Field(description=\"Tells about the mode of payment the user proceeeded\")\n",
    "    Products:List[Product] =Field(description=\"Tells about the details of list of products\")\n",
    "\n",
    "model2 = ChatOpenAI(temperature=0)\n",
    "function2 = [convert_pydantic_to_openai_function(Extraction_with_products)]\n",
    "\n",
    "prompt_template1=\"\"\"You are tasked with extracting specific fields from an invoice document. The fields you need to extract are:\n",
    "\n",
    "1. Transaction ID\n",
    "2. Amount\n",
    "3. Date and Time (combined)\n",
    "4. Mode of Payment\n",
    "5. 5. List of Products (each product has a Name and Amount)\n",
    "\n",
    "Please extract the following fields from the given invoice document. If any field cannot be extracted, set its value to `null`. \n",
    "\n",
    "Invoice Document :{Document}\n",
    "\"\"\"\n",
    "\n",
    "from langchain.output_parsers.openai_functions import JsonOutputFunctionsParser\n",
    "from langchain_core.prompts import ChatPromptTemplate\n",
    "prompt_template1 = ChatPromptTemplate.from_template(prompt_template1)\n",
    "llm_model2 = (\n",
    "      prompt_template1\n",
    "      | model2.bind(functions=function2) \n",
    "      | JsonOutputFunctionsParser() \n",
    "  )\n",
    "\n",
    "llm_model2.invoke({\"Document\":pages})"
   ]
  },
  {
   "cell_type": "code",
   "execution_count": null,
   "metadata": {},
   "outputs": [],
   "source": []
  },
  {
   "cell_type": "code",
   "execution_count": null,
   "metadata": {},
   "outputs": [],
   "source": []
  },
  {
   "cell_type": "code",
   "execution_count": null,
   "metadata": {},
   "outputs": [],
   "source": []
  }
 ],
 "metadata": {
  "kernelspec": {
   "display_name": ".venv",
   "language": "python",
   "name": "python3"
  },
  "language_info": {
   "codemirror_mode": {
    "name": "ipython",
    "version": 3
   },
   "file_extension": ".py",
   "mimetype": "text/x-python",
   "name": "python",
   "nbconvert_exporter": "python",
   "pygments_lexer": "ipython3",
   "version": "3.12.3"
  }
 },
 "nbformat": 4,
 "nbformat_minor": 2
}
